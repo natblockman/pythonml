{
 "cells": [
  {
   "cell_type": "code",
   "execution_count": 12,
   "metadata": {},
   "outputs": [
    {
     "data": {
      "image/png": "[encoded data removed]",
      "text/plain": [
       "<Figure size 288x216 with 1 Axes>"
      ]
     },
     "metadata": {
      "needs_background": "light"
     },
     "output_type": "display_data"
    }
   ],
   "source": [
    "#example 4-1\n",
    "\n",
    "import matplotlib.pyplot as plt\n",
    "import numpy as np\n",
    "\n",
    "data = [[3, 10],   #คอลัมน์ x, y\n",
    "        [5, 7],\n",
    "        [6, 6],\n",
    "        [7, 4.5],\n",
    "        [9, 3.25]]\n",
    "\n",
    "arr = np.array(data)\n",
    "x = arr[:, 0]\n",
    "y = arr[:, 1]\n",
    "\n",
    "plt.figure(figsize=(4, 3))\n",
    "\n",
    "plt.scatter(x, y, s=50)\n",
    "plt.show()"
   ]
  },
  {
   "cell_type": "code",
   "execution_count": 6,
   "metadata": {},
   "outputs": [
    {
     "data": {
      "text/html": [
       "<div>\n",
       "<style scoped>\n",
       "    .dataframe tbody tr th:only-of-type {\n",
       "        vertical-align: middle;\n",
       "    }\n",
       "\n",
       "    .dataframe tbody tr th {\n",
       "        vertical-align: top;\n",
       "    }\n",
       "\n",
       "    .dataframe thead th {\n",
       "        text-align: right;\n",
       "    }\n",
       "</style>\n",
       "<table border=\"1\" class=\"dataframe\">\n",
       "  <thead>\n",
       "    <tr style=\"text-align: right;\">\n",
       "      <th></th>\n",
       "      <th>x</th>\n",
       "      <th>y</th>\n",
       "    </tr>\n",
       "  </thead>\n",
       "  <tbody>\n",
       "    <tr>\n",
       "      <th>x</th>\n",
       "      <td>1.00</td>\n",
       "      <td>-0.98</td>\n",
       "    </tr>\n",
       "    <tr>\n",
       "      <th>y</th>\n",
       "      <td>-0.98</td>\n",
       "      <td>1.00</td>\n",
       "    </tr>\n",
       "  </tbody>\n",
       "</table>\n",
       "</div>"
      ],
      "text/plain": [
       "      x     y\n",
       "x  1.00 -0.98\n",
       "y -0.98  1.00"
      ]
     },
     "metadata": {},
     "output_type": "display_data"
    }
   ],
   "source": [
    "#example 4-2\n",
    "\n",
    "import pandas as pd\n",
    "\n",
    "data = [[3, 10],   #คอลัมน์ x, y\n",
    "        [5, 7],\n",
    "        [6, 6],\n",
    "        [7, 4.5],\n",
    "        [9, 3.25]]\n",
    "\n",
    "df = pd.DataFrame(data, columns=['x', 'y'])\n",
    "\n",
    "display(df.corr().round(2))"
   ]
  },
  {
   "cell_type": "code",
   "execution_count": 52,
   "metadata": {},
   "outputs": [
    {
     "name": "stdout",
     "output_type": "stream",
     "text": [
      "x = 5, y = 10.838095238095237\n",
      "x = 9, y = 18.495238095238093\n",
      "x = 11, y = 22.323809523809523\n",
      "intercept = 1.266666666666664\n",
      "coefficient = 1.9142857142857146\n"
     ]
    }
   ],
   "source": [
    "#example 4-3\n",
    "\n",
    "from sklearn.linear_model import LinearRegression\n",
    "import numpy as np\n",
    "\n",
    "\n",
    "data = [[2, 6], \n",
    "        [4, 10], \n",
    "        [6, 11], \n",
    "        [8, 14], \n",
    "        [10, 22], \n",
    "        [12, 25]]\n",
    "\n",
    "data = np.array(data)\n",
    "x = data[:, 0].reshape(-1, 1)\n",
    "y = data[:, 1].reshape(-1, 1)\n",
    "\n",
    "'''\n",
    "x = [[2], [4], [6], [10], [12]]\n",
    "#y = [[6], [10], [11], [22], [25]]\n",
    "y = [6, 10, 11, 22, 25]\n",
    "'''\n",
    "\n",
    "'''\n",
    "x = [2, 4, 6, 10, 12]\n",
    "x = np.array(x).reshape(-1, 1)\n",
    "\n",
    "y = [6, 10, 11, 22, 25]\n",
    "y = np.array(y).reshape(-1, 1)\n",
    "'''\n",
    "\n",
    "model = LinearRegression()\n",
    "model.fit(x, y)\n",
    "\n",
    "y_5 = model.predict([[5]])\n",
    "print('x = 5, y =', y_5[0, 0])\n",
    "\n",
    "y_9 = model.predict([[9]])\n",
    "print('x = 9, y =', y_9[0, 0])\n",
    "      \n",
    "y_11 = model.predict([[11]])\n",
    "print('x = 11, y =', y_11[0, 0])      \n",
    "\n",
    "print('intercept =', model.intercept_[0])\n",
    "print('coefficient =', model.coef_[0, 0])\n"
   ]
  },
  {
   "cell_type": "code",
   "execution_count": 28,
   "metadata": {},
   "outputs": [
    {
     "data": {
      "image/png": "[encoded data removed]",
      "text/plain": [
       "<Figure size 432x288 with 1 Axes>"
      ]
     },
     "metadata": {
      "needs_background": "light"
     },
     "output_type": "display_data"
    },
    {
     "name": "stdout",
     "output_type": "stream",
     "text": [
      "ทำกิจกรรมนาน 8 นาที เผาผลาญ 23.87 แคลอรี\n",
      "ทำกิจกรรมนาน 18 นาที เผาผลาญ 103.38 แคลอรี\n",
      "ทำกิจกรรมนาน 33 นาที เผาผลาญ 222.64 แคลอรี\n",
      "ทำกิจกรรมนาน 59 นาที เผาผลาญ 429.37 แคลอรี\n",
      "\n",
      "สมการทำนายผลคือ: y = -39.74 + (7.95)x\n"
     ]
    }
   ],
   "source": [
    "#example 4-4\n",
    "\n",
    "from sklearn.linear_model import LinearRegression\n",
    "import numpy as np\n",
    "import matplotlib.pyplot as plt\n",
    "\n",
    "x = list(range(5, 61, 5))    #[5, 10, 15, ..., 60]\n",
    "y = [8, 42, 102, 113, 148, 206, 202, 230, 360, 354, 427, 432]\n",
    "\n",
    "plt.scatter(x, y)\n",
    "plt.show()\n",
    "\n",
    "x = np.array(x).reshape(-1, 1)\n",
    "\n",
    "model = LinearRegression()\n",
    "model.fit(x, y)\n",
    "\n",
    "#ทำนายผล นาทีที่ 8, 18, 33 และ 59\n",
    "x_predict = [[8], [18], [33], [59]]\n",
    "y_predict = model.predict(x_predict)\n",
    "\n",
    "#แสดงผลการทำนายทั้งหมด ในแบบเลขทศนิยม 2 ตำแหน่ง\n",
    "for (i, p) in enumerate(x_predict):\n",
    "    cal = '{:.2f}'.format(y_predict[i])\n",
    "    print(f'ทำกิจกรรมนาน {p[0]} นาที เผาผลาญ {cal} แคลอรี') \n",
    "     \n",
    "print()\n",
    "\n",
    "ic = '{:.2f}'.format(model.intercept_)\n",
    "ce = '{:.2f}'.format(model.coef_[0])\n",
    "print(f'สมการทำนายผลคือ: y = {ic} + ({ce})x')\n"
   ]
  },
  {
   "cell_type": "code",
   "execution_count": 1,
   "metadata": {},
   "outputs": [
    {
     "data": {
      "image/png": "[encoded data removed]",
      "text/plain": [
       "<Figure size 288x216 with 1 Axes>"
      ]
     },
     "metadata": {
      "needs_background": "light"
     },
     "output_type": "display_data"
    },
    {
     "name": "stdout",
     "output_type": "stream",
     "text": [
      "สมการทำนายผลคือ: y = -19.07 + (0.45)x\n",
      "\n",
      "ปริมาณฝนที่ตก 90 มิลลิเมตร จะขายร่มได้ 21 อัน\n",
      "ปริมาณฝนที่ตก 100 มิลลิเมตร จะขายร่มได้ 26 อัน\n",
      "ปริมาณฝนที่ตก 120 มิลลิเมตร จะขายร่มได้ 35 อัน\n"
     ]
    }
   ],
   "source": [
    "#example 4-5\n",
    "\n",
    "from sklearn.linear_model import LinearRegression\n",
    "import numpy as np\n",
    "import pandas as pd\n",
    "import matplotlib.pyplot as plt\n",
    "\n",
    "df = pd.read_excel(r'data\\umbrellas_sold_1.xlsx')\n",
    "\n",
    "#with pd.option_context('display.max_rows', 6): display(df)\n",
    "    \n",
    "x = df['rainfall_mm']\n",
    "y = df['umbrellas_sold']\n",
    "\n",
    "plt.figure(figsize=(4, 3))\n",
    "plt.scatter(x, y)\n",
    "plt.show()\n",
    "\n",
    "x = np.array(x).reshape(-1, 1)\n",
    "\n",
    "model = LinearRegression()\n",
    "model.fit(x, y)\n",
    "\n",
    "ic = '{:.2f}'.format(model.intercept_)\n",
    "ce = '{:.2f}'.format(model.coef_[0])\n",
    "print(f'สมการทำนายผลคือ: y = {ic} + ({ce})x')\n",
    "\n",
    "x_predict = [[90], [100], [120]]\n",
    "y_predicted = model.predict(x_predict)\n",
    "\n",
    "print()\n",
    "\n",
    "#แสดงผลการทำนายทั้งหมด ในแบบเลขจำนวนเต็ม (.0f)\n",
    "for (i, p) in enumerate(x_predict):\n",
    "    sale = '{:.0f}'.format(y_predicted[i])\n",
    "    print(f'ปริมาณฝนที่ตก {p[0]} มิลลิเมตร จะขายร่มได้ {sale} อัน')\n"
   ]
  },
  {
   "cell_type": "code",
   "execution_count": 39,
   "metadata": {},
   "outputs": [
    {
     "name": "stdout",
     "output_type": "stream",
     "text": [
      "R-Squared: 0.9453843453843453\n",
      "\n",
      "หรือมีระดับความแม่นยำประมาณ 94.54%\n"
     ]
    }
   ],
   "source": [
    "#example 4-6\n",
    "\n",
    "from sklearn.linear_model import LinearRegression\n",
    "import numpy as np\n",
    "from sklearn.metrics import r2_score\n",
    "\n",
    "x = np.array([2, 4, 6, 8, 10, 12]).reshape(-1, 1)\n",
    "y = [6, 10, 11, 14, 22, 25]\n",
    "\n",
    "model = LinearRegression()\n",
    "model.fit(x, y)\n",
    "\n",
    "score = model.score(x, y)\n",
    "\n",
    "#y_predict = model.predict(x)\n",
    "#score = r2_score(y, y_predict)\n",
    "\n",
    "print('R-Squared:', score)\n",
    "print()\n",
    "\n",
    "accuracy = score * 100\n",
    "accuracy = '{:.2f}'.format(accuracy)\n",
    "print(f'หรือมีระดับความแม่นยำประมาณ {accuracy}%')\n"
   ]
  },
  {
   "cell_type": "code",
   "execution_count": 41,
   "metadata": {},
   "outputs": [
    {
     "name": "stdout",
     "output_type": "stream",
     "text": [
      "R-Squared: 0.8057\n",
      "\n",
      "หรือมีระดับความแม่นยำประมาณ 80.57%\n"
     ]
    }
   ],
   "source": [
    "#example 4-7\n",
    "\n",
    "from sklearn.linear_model import LinearRegression\n",
    "from sklearn.model_selection import train_test_split\n",
    "import numpy as np\n",
    "import pandas as pd\n",
    "import matplotlib.pyplot as plt\n",
    "from sklearn.metrics import r2_score\n",
    "\n",
    "df = pd.read_excel(r'data\\umbrellas_sold_1.xlsx')\n",
    "x = df['rainfall_mm']\n",
    "x = np.array(x).reshape(-1, 1)\n",
    "y = df['umbrellas_sold']\n",
    "\n",
    "x_train, x_test, y_train, y_test = train_test_split(x, y, random_state=0)\n",
    "\n",
    "model = LinearRegression()\n",
    "model.fit(x_train, y_train)\n",
    "\n",
    "score = model.score(x_test, y_test)\n",
    "\n",
    "#y_predict = model.predict(x_test)\n",
    "#score = r2_score(y_test, y_predict)\n",
    "\n",
    "print('R-Squared:', '{:.4f}'.format(score))\n",
    "print()\n",
    "\n",
    "accuracy = score * 100\n",
    "accuracy = '{:.2f}'.format(accuracy)\n",
    "print(f'หรือมีระดับความแม่นยำประมาณ {accuracy}%')"
   ]
  },
  {
   "cell_type": "code",
   "execution_count": 43,
   "metadata": {},
   "outputs": [
    {
     "data": {
      "text/html": [
       "<div>\n",
       "<style scoped>\n",
       "    .dataframe tbody tr th:only-of-type {\n",
       "        vertical-align: middle;\n",
       "    }\n",
       "\n",
       "    .dataframe tbody tr th {\n",
       "        vertical-align: top;\n",
       "    }\n",
       "\n",
       "    .dataframe thead th {\n",
       "        text-align: right;\n",
       "    }\n",
       "</style>\n",
       "<table border=\"1\" class=\"dataframe\">\n",
       "  <thead>\n",
       "    <tr style=\"text-align: right;\">\n",
       "      <th></th>\n",
       "      <th>Gestational_Age_wks</th>\n",
       "      <th>Birth_Weight_gm</th>\n",
       "    </tr>\n",
       "  </thead>\n",
       "  <tbody>\n",
       "    <tr>\n",
       "      <th>0</th>\n",
       "      <td>34.7</td>\n",
       "      <td>1895</td>\n",
       "    </tr>\n",
       "    <tr>\n",
       "      <th>1</th>\n",
       "      <td>36.0</td>\n",
       "      <td>2030</td>\n",
       "    </tr>\n",
       "    <tr>\n",
       "      <th>2</th>\n",
       "      <td>29.3</td>\n",
       "      <td>1440</td>\n",
       "    </tr>\n",
       "    <tr>\n",
       "      <th>...</th>\n",
       "      <td>...</td>\n",
       "      <td>...</td>\n",
       "    </tr>\n",
       "    <tr>\n",
       "      <th>14</th>\n",
       "      <td>41.1</td>\n",
       "      <td>3260</td>\n",
       "    </tr>\n",
       "    <tr>\n",
       "      <th>15</th>\n",
       "      <td>38.0</td>\n",
       "      <td>2680</td>\n",
       "    </tr>\n",
       "    <tr>\n",
       "      <th>16</th>\n",
       "      <td>38.7</td>\n",
       "      <td>2005</td>\n",
       "    </tr>\n",
       "  </tbody>\n",
       "</table>\n",
       "<p>17 rows × 2 columns</p>\n",
       "</div>"
      ],
      "text/plain": [
       "    Gestational_Age_wks  Birth_Weight_gm\n",
       "0                  34.7             1895\n",
       "1                  36.0             2030\n",
       "2                  29.3             1440\n",
       "..                  ...              ...\n",
       "14                 41.1             3260\n",
       "15                 38.0             2680\n",
       "16                 38.7             2005\n",
       "\n",
       "[17 rows x 2 columns]"
      ]
     },
     "metadata": {},
     "output_type": "display_data"
    },
    {
     "name": "stdout",
     "output_type": "stream",
     "text": [
      "MSE: 151544.06\n",
      "RMSE: 389.29\n",
      "R-Squared: 0.67\n",
      "สมการทำนายผลคือ y = -4020.05 + (180.46)x\n"
     ]
    }
   ],
   "source": [
    "#example 4-8\n",
    "\n",
    "from sklearn.linear_model import LinearRegression\n",
    "from sklearn.metrics import mean_squared_error\n",
    "import numpy as np\n",
    "import matplotlib.pyplot as plt\n",
    "import pandas as pd\n",
    "from sklearn.metrics import r2_score\n",
    "\n",
    "df = pd.read_excel(r'data\\birth_weight.xlsx')\n",
    "with pd.option_context('display.max_rows', 6): display(df)\n",
    "\n",
    "x = df['Gestational_Age_wks']\n",
    "y = df['Birth_Weight_gm']\n",
    "\n",
    "'''\n",
    "plt.figure(figsize=(4, 3))\n",
    "plt.scatter(x, y)\n",
    "plt.show()\n",
    "'''\n",
    "\n",
    "x = np.array(x).reshape(-1, 1)\n",
    "\n",
    "model = LinearRegression()\n",
    "model.fit(x, y)\n",
    "\n",
    "y_predict = model.predict(x)\n",
    "\n",
    "mse = mean_squared_error(y, y_predict)\n",
    "rmse = np.sqrt(mse)\n",
    "\n",
    "print('MSE:', '{:.2f}'.format(mse))\n",
    "print('RMSE:', '{:.2f}'.format(rmse))\n",
    "\n",
    "score = model.score(x, y)\n",
    "#score = r2_score(y, y_predict)\n",
    "\n",
    "print('R-Squared:', '{:.2f}'.format(score))\n",
    "\n",
    "ic = '{:.2f}'.format(model.intercept_)\n",
    "ce = '{:.2f}'.format(model.coef_[0])\n",
    "print(f'สมการทำนายผลคือ y = {ic} + ({ce})x')"
   ]
  },
  {
   "cell_type": "code",
   "execution_count": 55,
   "metadata": {},
   "outputs": [
    {
     "name": "stdout",
     "output_type": "stream",
     "text": [
      "สมการทำนายผลคือ y = 31.37 + (180.46)x1 + (1.51)x2\n",
      "x1 = 6, x2 = 6, y = 44.92\n",
      "x1 = 7, x2 = 6, y = 45.67\n"
     ]
    }
   ],
   "source": [
    "#example 4-9\n",
    "\n",
    "from sklearn.linear_model import LinearRegression\n",
    "import numpy as np\n",
    "\n",
    "d = [[8, 4, 45],    #แถวที่ 1 คอลัมน์ 1 และ 2\n",
    "     [7, 5, 44],    #แถวที่ 2 คอลัมน์ 1 และ 2 \n",
    "     [8, 6, 50],    #แถวที่ 3 คอลัมน์ 1 และ 2 \n",
    "     [6, 6, 43],    #แถวที่ 4 คอลัมน์ 1 และ 2 \n",
    "     [9, 5, 45],    #แถวที่ 5 คอลัมน์ 1 และ 2 \n",
    "     [8, 3, 44],    #แถวที่ 6 คอลัมน์ 1 และ 2 \n",
    "     [9, 4, 40],    #แถวที่ 7 คอลัมน์ 1 และ 2\n",
    "     [6, 5, 43]]    #แถวที่ 8 คอลัมน์ 1 และ 2\n",
    "\n",
    "d = np.array(d)\n",
    "x = d[:, 0:2]\n",
    "y = d[:, 2]\n",
    "\n",
    "\n",
    "model = LinearRegression()\n",
    "model.fit(x, y)\n",
    "\n",
    "ic = '{:.2f}'.format(model.intercept_)\n",
    "ce1 = '{:.2f}'.format(model.coef_[0])\n",
    "ce2 = '{:.2f}'.format(model.coef_[1])\n",
    "print(f'สมการทำนายผลคือ y = {ic} + ({ce})x1 + ({ce2})x2')\n",
    "\n",
    "x_predict = [[6, 6], [7, 6]]\n",
    "y_predict = model.predict(x_predict)\n",
    "\n",
    "p_6_6 = '{:.2f}'.format(y_predict[0])\n",
    "p_7_6 = '{:.2f}'.format(y_predict[1])\n",
    "\n",
    "print(f'x1 = 6, x2 = 6, y = {p_6_6}')\n",
    "print(f'x1 = 7, x2 = 6, y = {p_7_6}')"
   ]
  },
  {
   "cell_type": "code",
   "execution_count": 4,
   "metadata": {},
   "outputs": [
    {
     "data": {
      "image/png": "[encoded data removed]",
      "text/plain": [
       "<Figure size 288x216 with 1 Axes>"
      ]
     },
     "metadata": {
      "needs_background": "light"
     },
     "output_type": "display_data"
    },
    {
     "data": {
      "image/png": "[encoded data removed]",
      "text/plain": [
       "<Figure size 288x216 with 1 Axes>"
      ]
     },
     "metadata": {
      "needs_background": "light"
     },
     "output_type": "display_data"
    },
    {
     "data": {
      "text/html": [
       "<div>\n",
       "<style scoped>\n",
       "    .dataframe tbody tr th:only-of-type {\n",
       "        vertical-align: middle;\n",
       "    }\n",
       "\n",
       "    .dataframe tbody tr th {\n",
       "        vertical-align: top;\n",
       "    }\n",
       "\n",
       "    .dataframe thead th {\n",
       "        text-align: right;\n",
       "    }\n",
       "</style>\n",
       "<table border=\"1\" class=\"dataframe\">\n",
       "  <thead>\n",
       "    <tr style=\"text-align: right;\">\n",
       "      <th></th>\n",
       "      <th>interest_rate</th>\n",
       "      <th>unemployment_rate</th>\n",
       "      <th>stock_index_price</th>\n",
       "    </tr>\n",
       "  </thead>\n",
       "  <tbody>\n",
       "    <tr>\n",
       "      <th>interest_rate</th>\n",
       "      <td>1.00</td>\n",
       "      <td>-0.93</td>\n",
       "      <td>0.94</td>\n",
       "    </tr>\n",
       "    <tr>\n",
       "      <th>unemployment_rate</th>\n",
       "      <td>-0.93</td>\n",
       "      <td>1.00</td>\n",
       "      <td>-0.92</td>\n",
       "    </tr>\n",
       "    <tr>\n",
       "      <th>stock_index_price</th>\n",
       "      <td>0.94</td>\n",
       "      <td>-0.92</td>\n",
       "      <td>1.00</td>\n",
       "    </tr>\n",
       "  </tbody>\n",
       "</table>\n",
       "</div>"
      ],
      "text/plain": [
       "                   interest_rate  unemployment_rate  stock_index_price\n",
       "interest_rate               1.00              -0.93               0.94\n",
       "unemployment_rate          -0.93               1.00              -0.92\n",
       "stock_index_price           0.94              -0.92               1.00"
      ]
     },
     "metadata": {},
     "output_type": "display_data"
    },
    {
     "name": "stdout",
     "output_type": "stream",
     "text": [
      "\n",
      "อัตราดอกเบี้ย: 2, อัตราการว่างงาน: 5, ราคาหุ้น = 1,239\n",
      "อัตราดอกเบี้ย: 2.2, อัตราการว่างงาน: 5.7, ราคาหุ้น = 1,133\n",
      "R-Squared: 0.90\n"
     ]
    }
   ],
   "source": [
    "#example 4-10\n",
    "\n",
    "import pandas as pd\n",
    "import matplotlib.pyplot as plt\n",
    "from sklearn.linear_model import LinearRegression\n",
    "\n",
    "df = pd.read_csv(r'data\\stock_index_price.csv')\n",
    "#with pd.option_context('display.max_rows', 6): display(df)\n",
    "\n",
    "x1 = df['interest_rate']\n",
    "x2 = df['unemployment_rate']\n",
    "y = df['stock_index_price']\n",
    "\n",
    "\n",
    "plt.figure(figsize=(4, 3))\n",
    "plt.scatter(x1, y, c='b')\n",
    "plt.xlabel('interest_rate')\n",
    "plt.ylabel('stock_index_pric')\n",
    "plt.show()\n",
    "\n",
    "plt.figure(figsize=(4, 3))\n",
    "plt.scatter(x2, y, c='r')\n",
    "plt.xlabel('unemployment_rate')\n",
    "plt.ylabel('stock_index_pric')\n",
    "plt.show()\n",
    "\n",
    "\n",
    "display(df.corr().round(2))\n",
    "\n",
    "print()\n",
    "\n",
    "x = df[['interest_rate','unemployment_rate']]\n",
    "\n",
    "model = LinearRegression()\n",
    "model.fit(x, y)\n",
    "\n",
    "#ทำนายราคาหุ้นเมื่อ อัตราดอกเบี้ย: 2, อัตราการว่างงาน: 5\n",
    "#และ อัตราดอกเบี้ย: 2.2, อัตราการว่างงาน: 5.7\n",
    "x_predict = [[2, 5], [2.2, 5.7]]\n",
    "y_predict = model.predict((x_predict))\n",
    "\n",
    "for (i, x_p) in enumerate(x_predict):\n",
    "    p = '{:,.0f}'.format(y_predict[i])\n",
    "    print(f'อัตราดอกเบี้ย: {x_p[0]}, อัตราการว่างงาน: {x_p[1]}, ราคาหุ้น = {p}')\n",
    "\n",
    "score = model.score(x, y)\n",
    "print('R-Squared:', '{:.2f}'.format(score))"
   ]
  },
  {
   "cell_type": "code",
   "execution_count": 3,
   "metadata": {
    "scrolled": true
   },
   "outputs": [
    {
     "name": "stdout",
     "output_type": "stream",
     "text": [
      "ขนาดเครื่องยนต์: 2300, หนัก: 1300, จะปล่อย CO2: 107\n",
      "R-Squared: 0.39\n",
      "สมการทำนายผลคือ y = 79.52 + (0.0075)x1 + (0.0081)x2\n"
     ]
    }
   ],
   "source": [
    "#example 4-11\n",
    "\n",
    "import pandas as pd\n",
    "import matplotlib.pyplot as plt\n",
    "from sklearn.linear_model import LinearRegression\n",
    "from sklearn.model_selection import train_test_split\n",
    "\n",
    "df = pd.read_csv(r'data\\co2-emission.csv')\n",
    "#with pd.option_context('display.max_rows', 8): display(df)\n",
    "\n",
    "x1 = df['volume']\n",
    "x2 = df['weight']\n",
    "y = df['co2']\n",
    "\n",
    "'''\n",
    "plt.scatter(x1, y, c='b')\n",
    "plt.xlabel('volume')\n",
    "plt.ylabel('co2')\n",
    "plt.show()\n",
    "\n",
    "plt.scatter(x2, y, c='r')\n",
    "plt.xlabel('weight')\n",
    "plt.ylabel('co2')\n",
    "plt.show()\n",
    "'''\n",
    "\n",
    "x = df[['volume','weight']]\n",
    "\n",
    "x_train, x_test, y_train, y_test = train_test_split(x, y, random_state=0)\n",
    "\n",
    "model = LinearRegression()\n",
    "model.fit(x_train, y_train)\n",
    "\n",
    "#ทำนายการปล่อย CO2 เมื่อ ขนาดเครื่องยนต์: 2300, น้ำหนัก: 1300\n",
    "x_predict = [[2300, 1300]]\n",
    "y_predict = model.predict((x_predict))\n",
    "\n",
    "for (i, x_p) in enumerate(x_predict):\n",
    "    co2 = '{:,.0f}'.format(y_predict[i])\n",
    "    print(f'ขนาดเครื่องยนต์: {x_p[0]}, หนัก: {x_p[1]}, จะปล่อย CO2: {co2}')\n",
    "\n",
    "score = model.score(x_test, y_test)\n",
    "print('R-Squared:', '{:.2f}'.format(score))\n",
    "\n",
    "ic = '{:.2f}'.format(model.intercept_)\n",
    "ce1 = '{:.4f}'.format(model.coef_[0])\n",
    "ce2 = '{:.4f}'.format(model.coef_[1])\n",
    "print(f'สมการทำนายผลคือ y = {ic} + ({ce1})x1 + ({ce2})x2')"
   ]
  },
  {
   "cell_type": "code",
   "execution_count": 14,
   "metadata": {},
   "outputs": [
    {
     "data": {
      "image/png": "[encoded data removed]",
      "text/plain": [
       "<Figure size 432x288 with 1 Axes>"
      ]
     },
     "metadata": {
      "needs_background": "light"
     },
     "output_type": "display_data"
    }
   ],
   "source": [
    "#polynomial regression (test)\n",
    "\n",
    "from sklearn.linear_model import LinearRegression\n",
    "from sklearn.preprocessing import PolynomialFeatures \n",
    "import matplotlib.pyplot as plt\n",
    "import numpy as np\n",
    "\n",
    "pf = PolynomialFeatures(degree=2)  #1, 2, 3, 4\n",
    "\n",
    "x = np.array(list(range(1, 11))).reshape(-1, 1)\n",
    "x_poly= pf.fit_transform(x) \n",
    "\n",
    "y = [45, 50, 60, 80, 110, 150, 200, 300, 500, 1000]\n",
    "\n",
    "model = LinearRegression()  \n",
    "model.fit(x_poly, y)  \n",
    "\n",
    "y_predict = model.predict(x_poly)\n",
    "\n",
    "plt.scatter(x, y, color='b')  \n",
    "plt.plot(x, y_predict, color='r')  \n",
    "plt.show() "
   ]
  },
  {
   "cell_type": "code",
   "execution_count": 6,
   "metadata": {},
   "outputs": [
    {
     "data": {
      "image/png": "[encoded data removed]",
      "text/plain": [
       "<Figure size 288x216 with 1 Axes>"
      ]
     },
     "metadata": {
      "needs_background": "light"
     },
     "output_type": "display_data"
    },
    {
     "name": "stdout",
     "output_type": "stream",
     "text": [
      "อุณหภูมิ = 50, ความดัน = 0.0081\n",
      "อุณหภูมิ = 70, ความดัน = 0.0512\n",
      "อุณหภูมิ = 95, ความดัน = 0.2145\n"
     ]
    },
    {
     "data": {
      "image/png": "[encoded data removed]",
      "text/plain": [
       "<Figure size 288x216 with 1 Axes>"
      ]
     },
     "metadata": {
      "needs_background": "light"
     },
     "output_type": "display_data"
    }
   ],
   "source": [
    "#example 4-12\n",
    "\n",
    "from sklearn.preprocessing import PolynomialFeatures \n",
    "from sklearn.linear_model import LinearRegression\n",
    "import matplotlib.pyplot as plt\n",
    "import numpy as np\n",
    "from sklearn.metrics import r2_score\n",
    "\n",
    "x = [0, 20, 40, 60, 80, 100]\n",
    "y = [0.0002, 0.0012, 0.0060, 0.0300, 0.0900, 0.2700]\n",
    "\n",
    "plt.figure(figsize=(4, 3))\n",
    "plt.scatter(x, y, color='b')  \n",
    "plt.show() \n",
    "\n",
    "pf = PolynomialFeatures(degree=3)  #ลองเปลี่ยนค่า degree เป็นเลขอื่นๆ\n",
    "\n",
    "x = np.array(x).reshape(-1, 1)\n",
    "x_poly = pf.fit_transform(x)\n",
    "\n",
    "model = LinearRegression()\n",
    "model.fit(x_poly, y)\n",
    "\n",
    "#ทำนายผลเมื่ออุณหภูมิเป็น 50, 70 และ 95\n",
    "#โดยต้องแปลงเป็น Polynomial เช่นเดียวกัน\n",
    "x_predict = [[50], [70], [95]]  \n",
    "y_predict = model.predict(pf.transform(x_predict))\n",
    "\n",
    "for (i, x_p) in enumerate(x_predict):\n",
    "    pressure = '{:.4f}'.format(y_predict[i])\n",
    "    print(f'อุณหภูมิ = {x_p[0]}, ความดัน = {pressure}')\n",
    "    \n",
    "\n",
    "y_predict2 = model.predict(x_poly)\n",
    "\n",
    "plt.figure(figsize=(4, 3))\n",
    "plt.scatter(x, y, color='b')         #กราฟแสดงข้อมูลตัวอย่าง\n",
    "plt.plot(x, y_predict2, color='r')   #กราฟแสดงเส้นทำนายผล\n",
    "plt.show() \n"
   ]
  },
  {
   "cell_type": "code",
   "execution_count": 6,
   "metadata": {},
   "outputs": [
    {
     "data": {
      "image/png": "[encoded data removed]",
      "text/plain": [
       "<Figure size 288x216 with 1 Axes>"
      ]
     },
     "metadata": {
      "needs_background": "light"
     },
     "output_type": "display_data"
    },
    {
     "name": "stdout",
     "output_type": "stream",
     "text": [
      "pH = 6.5, Average Plant Growth (cm) = 54.8256\n",
      "pH = 6.7, Average Plant Growth (cm) = 54.9372\n",
      "pH = 6.9, Average Plant Growth (cm) = 41.4196\n",
      "R-Squared = 0.970\n"
     ]
    },
    {
     "data": {
      "image/png": "[encoded data removed]",
      "text/plain": [
       "<Figure size 288x216 with 1 Axes>"
      ]
     },
     "metadata": {
      "needs_background": "light"
     },
     "output_type": "display_data"
    }
   ],
   "source": [
    "#example 4-13\n",
    "\n",
    "from sklearn.preprocessing import PolynomialFeatures \n",
    "from sklearn.linear_model import LinearRegression\n",
    "import matplotlib.pyplot as plt\n",
    "import numpy as np\n",
    "from sklearn.metrics import r2_score\n",
    "\n",
    "x = [6.0, 6.2, 6.4, 6.6, 6.8, 7.0, 7.2]  #pH of Soid\n",
    "y = [25.4, 33.0, 50.8, 53.3, 53.3, 30.5, 22.9] #Average Plant Growth (cm)\n",
    "\n",
    "plt.figure(figsize=(4, 3))\n",
    "plt.scatter(x, y)\n",
    "plt.show()\n",
    "\n",
    "x = np.array(x).reshape(-1, 1)\n",
    "\n",
    "pf = PolynomialFeatures(degree=4)  #ลองเปลี่ยนค่า degree เป็นเลขอื่นๆ\n",
    "x_poly = pf.fit_transform(x)\n",
    "\n",
    "model = LinearRegression()\n",
    "model.fit(x_poly, y)\n",
    "\n",
    "x_predict = [[6.5], [6.7], [6.9]]  \n",
    "y_predict = model.predict(pf.transform(x_predict))\n",
    "\n",
    "for (i, x_p) in enumerate(x_predict):\n",
    "    g = '{:.4f}'.format(y_predict[i])\n",
    "    print(f'pH = {x_p[0]}, Average Plant Growth (cm) = {g}')\n",
    "\n",
    "y_predict_all = model.predict(x_poly)\n",
    "score = r2_score(y, y_predict_all)\n",
    "print('R-Squared =', '{:.3f}'.format(score))\n",
    "\n",
    "y_predict2 = model.predict(x_poly)\n",
    "\n",
    "plt.figure(figsize=(4, 3))\n",
    "plt.scatter(x, y, color='b')         #กราฟแสดงข้อมูลตัวอย่าง\n",
    "plt.plot(x, y_predict2, color='r')   #กราฟแสดงเส้นทำนายผล\n",
    "plt.show() "
   ]
  },
  {
   "cell_type": "code",
   "execution_count": 4,
   "metadata": {},
   "outputs": [
    {
     "data": {
      "text/html": [
       "<div>\n",
       "<style scoped>\n",
       "    .dataframe tbody tr th:only-of-type {\n",
       "        vertical-align: middle;\n",
       "    }\n",
       "\n",
       "    .dataframe tbody tr th {\n",
       "        vertical-align: top;\n",
       "    }\n",
       "\n",
       "    .dataframe thead th {\n",
       "        text-align: right;\n",
       "    }\n",
       "</style>\n",
       "<table border=\"1\" class=\"dataframe\">\n",
       "  <thead>\n",
       "    <tr style=\"text-align: right;\">\n",
       "      <th></th>\n",
       "      <th>home_size</th>\n",
       "      <th>kilowatt_hours_per_month</th>\n",
       "    </tr>\n",
       "  </thead>\n",
       "  <tbody>\n",
       "    <tr>\n",
       "      <th>0</th>\n",
       "      <td>1290</td>\n",
       "      <td>1182</td>\n",
       "    </tr>\n",
       "    <tr>\n",
       "      <th>1</th>\n",
       "      <td>1350</td>\n",
       "      <td>1172</td>\n",
       "    </tr>\n",
       "    <tr>\n",
       "      <th>2</th>\n",
       "      <td>1470</td>\n",
       "      <td>1264</td>\n",
       "    </tr>\n",
       "    <tr>\n",
       "      <th>...</th>\n",
       "      <td>...</td>\n",
       "      <td>...</td>\n",
       "    </tr>\n",
       "    <tr>\n",
       "      <th>7</th>\n",
       "      <td>2230</td>\n",
       "      <td>1840</td>\n",
       "    </tr>\n",
       "    <tr>\n",
       "      <th>8</th>\n",
       "      <td>2400</td>\n",
       "      <td>1956</td>\n",
       "    </tr>\n",
       "    <tr>\n",
       "      <th>9</th>\n",
       "      <td>2930</td>\n",
       "      <td>1954</td>\n",
       "    </tr>\n",
       "  </tbody>\n",
       "</table>\n",
       "<p>10 rows × 2 columns</p>\n",
       "</div>"
      ],
      "text/plain": [
       "    home_size  kilowatt_hours_per_month\n",
       "0        1290                      1182\n",
       "1        1350                      1172\n",
       "2        1470                      1264\n",
       "..        ...                       ...\n",
       "7        2230                      1840\n",
       "8        2400                      1956\n",
       "9        2930                      1954\n",
       "\n",
       "[10 rows x 2 columns]"
      ]
     },
     "metadata": {},
     "output_type": "display_data"
    },
    {
     "name": "stdout",
     "output_type": "stream",
     "text": [
      "ขนาดบ้าน = 1500, จะใช้ไฟประมาณ = 1371.36\n",
      "ขนาดบ้าน = 2000, จะใช้ไฟประมาณ = 1781.86\n",
      "R-Squared = 0.982\n"
     ]
    },
    {
     "data": {
      "image/png": "[encoded data removed]",
      "text/plain": [
       "<Figure size 288x216 with 1 Axes>"
      ]
     },
     "metadata": {
      "needs_background": "light"
     },
     "output_type": "display_data"
    }
   ],
   "source": [
    "#example 4-14\n",
    "\n",
    "from sklearn.linear_model import LinearRegression\n",
    "from sklearn.preprocessing import PolynomialFeatures \n",
    "import matplotlib.pyplot as plt\n",
    "import numpy as np\n",
    "import pandas as pd\n",
    "\n",
    "df = pd.read_csv(r'data\\electricity-consumptions.csv')\n",
    "#with pd.option_context('display.max_rows', 6): display(df)\n",
    "\n",
    "x = df['home_size']\n",
    "y = df['kilowatt_hours_per_month']\n",
    "\n",
    "pf = PolynomialFeatures(degree=3) \n",
    "x = np.array(x).reshape(-1, 1)\n",
    "x_poly= pf.fit_transform(x) \n",
    "\n",
    "model = LinearRegression()  \n",
    "model.fit(x_poly, y)  \n",
    "\n",
    "#ทำนายผลสำหรับบ้านขนาด 1500 และ 2000\n",
    "x_predict = [[1500], [2000]]  \n",
    "y_predict = model.predict(pf.transform(x_predict))\n",
    "\n",
    "for (i, x_p) in enumerate(x_predict):\n",
    "    kw = '{:.2f}'.format(y_predict[i])\n",
    "    print(f'ขนาดบ้าน = {x_p[0]}, จะใช้ไฟประมาณ = {kw}')\n",
    "\n",
    "score = model.score(x_poly, y)\n",
    "print('R-Squared =', '{:.3f}'.format(score))\n",
    "\n",
    "#เนื่องจากเราไม่ได้แบ่งชุด Train/Test\n",
    "#จึงทำนายผลจากข้อมูลทั้งหมดเพื่อวาดกราฟ\n",
    "y_predict_all = model.predict(x_poly)\n",
    "\n",
    "plt.figure(figsize=(4, 3))\n",
    "plt.scatter(x, y, color='b')  \n",
    "plt.plot(x, y_predict_all, color='r')  \n",
    "plt.show() "
   ]
  }
 ],
 "metadata": {
  "kernelspec": {
   "display_name": "Python 3",
   "language": "python",
   "name": "python3"
  },
  "language_info": {
   "codemirror_mode": {
    "name": "ipython",
    "version": 3
   },
   "file_extension": ".py",
   "mimetype": "text/x-python",
   "name": "python",
   "nbconvert_exporter": "python",
   "pygments_lexer": "ipython3",
   "version": "3.8.8"
  }
 },
 "nbformat": 4,
 "nbformat_minor": 2
}
