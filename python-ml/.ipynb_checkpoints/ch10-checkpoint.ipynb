{
 "cells": [
  {
   "cell_type": "code",
   "execution_count": 1,
   "metadata": {},
   "outputs": [
    {
     "name": "stdout",
     "output_type": "stream",
     "text": [
      "7.25\n"
     ]
    }
   ],
   "source": [
    "#example 10-1\n",
    "\n",
    "input1 = 10 * 0.5\n",
    "input2 = 5 * 0.25\n",
    "\n",
    "sum = input1 + input2\n",
    "\n",
    "output = sum + 1\n",
    "\n",
    "print(output)\n",
    "\n",
    "#หรือเขียนรวมในขั้นตอนเดียวได้เป็น\n",
    "#output = (10 * 0.5) + (5 * 0.25) + 1\n"
   ]
  },
  {
   "cell_type": "code",
   "execution_count": 2,
   "metadata": {},
   "outputs": [
    {
     "name": "stdout",
     "output_type": "stream",
     "text": [
      "-0.8125\n"
     ]
    }
   ],
   "source": [
    "#example 10-2\n",
    "\n",
    "input1 = 2 * 0.15\n",
    "input2 = 1 * (-0.2)\n",
    "input3 = 0.75 * 0.01\n",
    "input4 = 0.8 * 0.10\n",
    "\n",
    "sum = input1 + input2 + input3 + input4\n",
    "output = sum - 1\n",
    "\n",
    "print(output)\n",
    "\n",
    "#หรือเขียนรวมในขั้นตอนเดียวได้เป็น\n",
    "#output = (2 * 0.15) + (1 * (-0.2)) + (0.75 * 0.01) + (0.8 * 0.10) - 1\n"
   ]
  },
  {
   "cell_type": "code",
   "execution_count": 9,
   "metadata": {},
   "outputs": [
    {
     "name": "stdout",
     "output_type": "stream",
     "text": [
      "3.2800000000000002\n"
     ]
    }
   ],
   "source": [
    "#example 10-3\n",
    "\n",
    "import numpy as np\n",
    "\n",
    "inputs = [5, 3.5, 4]\n",
    "weights = [0.01, 0.5, 0.12]\n",
    "bias = 1\n",
    "\n",
    "output = np.dot(inputs, weights) + bias\n",
    "\n",
    "print(output)\n"
   ]
  },
  {
   "cell_type": "code",
   "execution_count": 10,
   "metadata": {},
   "outputs": [
    {
     "name": "stdout",
     "output_type": "stream",
     "text": [
      "-16.5\n"
     ]
    }
   ],
   "source": [
    "#example 10-4\n",
    "\n",
    "import numpy as np\n",
    "\n",
    "inputs = [40, 90, 60, 30, 50]\n",
    "weights = [0.10, -0.25, -0.20, 0.30, 0.10]\n",
    "bias = 0\n",
    "\n",
    "output = np.dot(inputs, weights) + bias\n",
    "\n",
    "print(output)\n"
   ]
  },
  {
   "cell_type": "code",
   "execution_count": 13,
   "metadata": {},
   "outputs": [
    {
     "name": "stdout",
     "output_type": "stream",
     "text": [
      "0\n"
     ]
    }
   ],
   "source": [
    "#example 10-5\n",
    "\n",
    "import numpy as np\n",
    "\n",
    "inputs = [2, 1, 0.75, 0.8]\n",
    "weights = [0.15, -0.2, 0.1, 1]\n",
    "\n",
    "sum = np.dot(inputs, weights) - 1\n",
    "output = max(0, sum)\n",
    "\n",
    "print(output)\n"
   ]
  },
  {
   "cell_type": "code",
   "execution_count": 14,
   "metadata": {},
   "outputs": [
    {
     "name": "stdout",
     "output_type": "stream",
     "text": [
      "6.825602910446286e-08\n"
     ]
    }
   ],
   "source": [
    "#example 10-6\n",
    "\n",
    "import numpy as np\n",
    "from math import exp\n",
    "\n",
    "inputs = [40, 90, 60, 30, 50]\n",
    "weights = [0.10, -0.25, -0.20, 0.30, 0.10]\n",
    "bias = 0\n",
    "\n",
    "sum = np.dot(inputs, weights) + bias\n",
    "output = 1 / (1 + np.exp(-sum))\n",
    "\n",
    "print(output)\n"
   ]
  },
  {
   "cell_type": "code",
   "execution_count": 15,
   "metadata": {},
   "outputs": [
    {
     "name": "stdout",
     "output_type": "stream",
     "text": [
      "5.3\n"
     ]
    }
   ],
   "source": [
    "#example 10-7\n",
    "\n",
    "sum_h1 = (10 * 0.5) + (5 * 0.1) + 1\n",
    "sum_h2 = (10 * (-0.25)) + (5 * 0.4) + 1\n",
    "\n",
    "out_h1 = max(0, sum_h1)\n",
    "out_h2 = max(0, sum_h2)\n",
    "\n",
    "sum_out = (out_h1 * 0.8) + (out_h2 * 0.2) + 0\n",
    "output = max(0, sum_out)\n",
    "\n",
    "print(output)\n"
   ]
  },
  {
   "cell_type": "code",
   "execution_count": 6,
   "metadata": {},
   "outputs": [
    {
     "name": "stdout",
     "output_type": "stream",
     "text": [
      "0.9999999999999989\n"
     ]
    }
   ],
   "source": [
    "#example 10-8\n",
    "\n",
    "import numpy as np\n",
    "\n",
    "sum_h1 = (101 * 0.15) + (108 * 1) + 1\n",
    "sum_h2 = (101 * 1) + (108 * (-1.25)) + 2\n",
    "sum_h3 = (101 * 0.2) + (108 * (-0.2)) + 1.5\n",
    "\n",
    "out_h1 = max(0, sum_h1)\n",
    "out_h2 = max(0, sum_h2)\n",
    "out_h3 = max(0, sum_h3)\n",
    "\n",
    "sum_h4 = (out_h1 * 0.15) + (out_h2 * 1.5) + (out_h3 * 2.5) + 1\n",
    "sum_h5 = (out_h1 * 0.1) + (out_h2 * 2) + (out_h3 * 1) + 2\n",
    "\n",
    "out_h4 = max(0, sum_h4)\n",
    "out_h5 = max(0, sum_h5)\n",
    " \n",
    "sum_out = (out_h4 * 1) + (out_h5 * 1) + 0\n",
    "output = 1 / (1 + np.exp(-sum_out))\n",
    "\n",
    "print(output)\n"
   ]
  },
  {
   "cell_type": "code",
   "execution_count": 4,
   "metadata": {},
   "outputs": [
    {
     "name": "stdout",
     "output_type": "stream",
     "text": [
      "5.3\n"
     ]
    }
   ],
   "source": [
    "#example 10-9\n",
    "\n",
    "import numpy as np\n",
    "\n",
    "inputs1 = [[10, 5]]\n",
    "weights1 = [[0.5, 0.1],\n",
    "            [-0.25, 0.4]]\n",
    "\n",
    "weights1 = np.array(weights1)\n",
    "\n",
    "sum_hidden_layer = np.dot(inputs1, weights1.T) + [1, 1]\n",
    "out_hidden_layer = np.maximum(0, sum_hidden_layer)\n",
    "\n",
    "inputs2 = out_hidden_layer\n",
    "weights2 = np.array([[0.8, 0.2]])\n",
    "\n",
    "sum_output = np.dot(inputs2, weights2.T) + [0]\n",
    "output = np.maximum(0, sum_output)\n",
    "\n",
    "print(output[0, 0])"
   ]
  },
  {
   "cell_type": "code",
   "execution_count": 7,
   "metadata": {},
   "outputs": [
    {
     "name": "stdout",
     "output_type": "stream",
     "text": [
      "0.9999999999999989\n"
     ]
    }
   ],
   "source": [
    "#example 10-10\n",
    "\n",
    "import numpy as np\n",
    "\n",
    "inputs1 = [[101, 108]]\n",
    "weights1 = [[0.15, 1],\n",
    "            [1, -1.25],\n",
    "            [0.2, -0.2]]\n",
    "\n",
    "sum_hd_layer1 = np.dot(inputs1, np.array(weights1).T) + [1, 2, 1.5]\n",
    "out_hd_layer1 = np.maximum(0, sum_hd_layer1)\n",
    "\n",
    "weights2 = [[0.15, 1.5, 2.5],\n",
    "            [0.1, 2, 1]]\n",
    "\n",
    "sum_hd_layer2 = np.dot(out_hd_layer1, np.array(weights2).T) + [1, 2]\n",
    "out_hd_layer2 = np.maximum(0, sum_hd_layer2)\n",
    " \n",
    "weights3 = [[1, 1]]\n",
    "sum_out = np.dot(out_hd_layer2, np.array(weights3).T) + 0\n",
    "output = 1 / (1 + np.exp(-sum_out))\n",
    "\n",
    "print(output[0, 0])  "
   ]
  },
  {
   "cell_type": "code",
   "execution_count": 4,
   "metadata": {},
   "outputs": [
    {
     "name": "stdout",
     "output_type": "stream",
     "text": [
      "predict: 1\n",
      "weights: [[ 2.2 -3.8]]\n",
      "bias: [4.]\n"
     ]
    }
   ],
   "source": [
    "#example 10-11\n",
    "\n",
    "from sklearn.linear_model import Perceptron\n",
    "import pandas as pd\n",
    "\n",
    "df = pd.read_csv(r'data\\perceptron.csv')\n",
    "#display(df)\n",
    "\n",
    "x = df[['x1', 'x2']]\n",
    "y = df['y']\n",
    "\n",
    "model = Perceptron()\n",
    "model.fit(x, y)\n",
    "\n",
    "predict = model.predict([[1.0, 1.5]])\n",
    "\n",
    "print('predict:', predict[0])\n",
    "print('weights:', model.coef_)\n",
    "print('bias:', model.intercept_)"
   ]
  },
  {
   "cell_type": "code",
   "execution_count": 5,
   "metadata": {},
   "outputs": [
    {
     "name": "stdout",
     "output_type": "stream",
     "text": [
      "Prediction: No\n",
      "Score: 1.0 \n",
      "\n",
      "weight:\n",
      "[[0.63828714 0.08609149 0.19270436]\n",
      " [0.90304589 0.30620482 0.4601315 ]]\n",
      "[[ 0.70983256]\n",
      " [-0.06333069]\n",
      " [ 0.45260101]]\n",
      "\n",
      "bias:\n",
      "[-1.53135668  0.71279743 -0.79358087]\n",
      "[-66.00170752]\n"
     ]
    }
   ],
   "source": [
    "#example 10-12\n",
    "\n",
    "from sklearn.neural_network import MLPClassifier\n",
    "\n",
    "x = [[20, 90],\n",
    "     [10, 20],\n",
    "     [30, 40],\n",
    "     [20, 50],\n",
    "     [80, 50],\n",
    "     [30, 80]]\n",
    "\n",
    "y = ['Yes', 'No', 'No', 'No', 'Yes', 'Yes']\n",
    "\n",
    "model = MLPClassifier(hidden_layer_sizes=(3), #มี Hidden Layer 1 ชั้น และมี 3 นิวรอน\n",
    "                      activation='relu',\n",
    "                      solver='lbfgs',\n",
    "                      max_iter=1000,\n",
    "                      random_state=100)\n",
    "\n",
    "model.fit(x, y)\n",
    "\n",
    "predict = model.predict([[40, 50]])\n",
    "print('Prediction:', predict[0])\n",
    "\n",
    "print('Score:', model.score(x, y), '\\n')\n",
    "\n",
    "print('weight:')\n",
    "print(*model.coefs_, sep='\\n')\n",
    "\n",
    "print()\n",
    "print('bias:')\n",
    "print(*model.intercepts_, sep='\\n')"
   ]
  },
  {
   "cell_type": "code",
   "execution_count": 7,
   "metadata": {},
   "outputs": [
    {
     "name": "stdout",
     "output_type": "stream",
     "text": [
      "Prediction: truck\n",
      "Score: 0.7 \n",
      "\n",
      "weight:\n",
      "[[ 4.85764024  1.35535732 -3.53727063]\n",
      " [ 0.11854244  0.22445235  2.42030427]\n",
      " [-3.26740285  4.17734159  2.89854417]]\n",
      "[[ 1.67657548  0.04957034 -3.1155931 ]\n",
      " [-2.21370784 -3.21284237  1.31425089]\n",
      " [ 1.28697617  0.4790104   2.47103003]]\n",
      "[[-2.24745298 -0.619289    0.98646091  1.59657209]\n",
      " [-0.87873784 -1.06794617  0.90215541  0.99895943]\n",
      " [ 3.56520814  3.64034096 -3.7833863  -4.04755722]]\n",
      "\n",
      "bias:\n",
      "[-0.97598852  2.42639085  1.06364849]\n",
      "[ 0.33248934 -1.12211985  1.71698724]\n",
      "[ 2.93096011 -7.17025575 11.61652475 -5.79482092]\n"
     ]
    }
   ],
   "source": [
    "#example 10-13\n",
    "\n",
    "from sklearn.neural_network import MLPClassifier\n",
    "from sklearn.model_selection import train_test_split\n",
    "import pandas as pd\n",
    "\n",
    "\n",
    "df = pd.read_csv(r'data\\vehicle-type.csv')\n",
    "#with pd.option_context('display.max_rows', 10): display(df)\n",
    "\n",
    "x = df.iloc[:, :3]  #wheels, chassis, pax\n",
    "y = df['type']\n",
    "\n",
    "x_train, x_test, y_train, y_test = train_test_split(x, y, random_state=0)\n",
    "\n",
    "model = MLPClassifier(hidden_layer_sizes=(3, 3), #Hidden1 มี 3 นิวรอน และ Hidden2 มี 3 นิวรอน\n",
    "                      activation='relu',\n",
    "                      solver='lbfgs',\n",
    "                      max_iter=10000,\n",
    "                      random_state=0)\n",
    "\n",
    "model.fit(x_train, y_train)\n",
    "\n",
    "predict = model.predict([[10, 20, 2]])\n",
    "print('Prediction:', predict[0])\n",
    "\n",
    "print('Score:', model.score(x_test, y_test), '\\n')\n",
    "\n",
    "print('weight:')\n",
    "print(*model.coefs_, sep='\\n')\n",
    "\n",
    "print()\n",
    "print('bias:')\n",
    "print(*model.intercepts_, sep='\\n')"
   ]
  },
  {
   "cell_type": "code",
   "execution_count": 8,
   "metadata": {},
   "outputs": [
    {
     "name": "stdout",
     "output_type": "stream",
     "text": [
      "Prediction: 542.19\n",
      "Score: 0.81 \n",
      "\n",
      "weight:\n",
      "[[  4.56742495  -2.52551317  -9.8212686 ]\n",
      " [  6.92729656  -7.10952066   0.58857605]\n",
      " [  1.23695907   1.12254801 -11.20878742]\n",
      " [ -3.4629571    5.43109205  12.89295064]]\n",
      "[[ 3.40641311]\n",
      " [10.1664207 ]\n",
      " [ 8.34142406]]\n",
      "\n",
      "bias:\n",
      "[ 33.01026464  38.78838052 -15.87513333]\n",
      "[55.3409257]\n"
     ]
    }
   ],
   "source": [
    "#example 10-14\n",
    "\n",
    "import pandas as pd\n",
    "from sklearn.neural_network import MLPRegressor\n",
    "from sklearn.preprocessing import StandardScaler\n",
    "from sklearn.model_selection import train_test_split\n",
    "\n",
    "df = pd.read_csv(r'data\\petrol-consumption.csv')\n",
    "df.dropna(inplace=True)\n",
    "#with pd.option_context('display.max_rows', 10): display(df)\n",
    "\n",
    "#คอลัมน์ที่จะใช้ Train Model คือลำดับที่ 0 - 3:\n",
    "x = df.iloc[:, 0:4]  \n",
    "y = df['Petrol_Consumption']\n",
    "\n",
    "x_train, x_test, y_train, y_test = train_test_split(x, y, random_state=100)\n",
    "\n",
    "scaler = StandardScaler()\n",
    "x_train = scaler.fit_transform(x_train)\n",
    "x_test = scaler.transform(x_test)\n",
    "\n",
    "model = MLPRegressor(hidden_layer_sizes=(3), \n",
    "                     activation='relu',\n",
    "                     solver='lbfgs',\n",
    "                     max_iter=10000,\n",
    "                     random_state=100)\n",
    "\n",
    "model.fit(x_train, y_train)\n",
    "\n",
    "#ข้อมูลที่จะทำนายผล ก็ต้องแปลงสเกลเช่นกัน\n",
    "x_predict = [[9, 4000, 2000, 0.555]]\n",
    "x_predict = scaler.transform(x_predict)\n",
    "\n",
    "predict = model.predict(x_predict)\n",
    "print('Prediction:', '{:.2f}'.format(predict[0]))\n",
    "\n",
    "print('Score:', '{:.2f}'.format(model.score(x_test, y_test)), '\\n')\n",
    "\n",
    "print('weight:')\n",
    "print(*model.coefs_, sep='\\n')\n",
    "\n",
    "print()\n",
    "print('bias:')\n",
    "print(*model.intercepts_, sep='\\n')"
   ]
  }
 ],
 "metadata": {
  "kernelspec": {
   "display_name": "Python 3",
   "language": "python",
   "name": "python3"
  },
  "language_info": {
   "codemirror_mode": {
    "name": "ipython",
    "version": 3
   },
   "file_extension": ".py",
   "mimetype": "text/x-python",
   "name": "python",
   "nbconvert_exporter": "python",
   "pygments_lexer": "ipython3",
   "version": "3.8.3"
  }
 },
 "nbformat": 4,
 "nbformat_minor": 4
}
