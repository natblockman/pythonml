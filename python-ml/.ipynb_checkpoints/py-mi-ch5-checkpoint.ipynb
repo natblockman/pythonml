{
 "cells": [
  {
   "cell_type": "code",
   "execution_count": 14,
   "metadata": {},
   "outputs": [
    {
     "name": "stderr",
     "output_type": "stream",
     "text": [
      "<ipython-input-14-01390cbd2b69>:5: RuntimeWarning: divide by zero encountered in log\n",
      "  y = np.log(x/(1-x))   #สำหรับ numpy เมธอด log() เท่ากับ Natural Log\n"
     ]
    },
    {
     "data": {
      "image/png": "[encoded data removed]",
      "text/plain": [
       "<Figure size 432x288 with 1 Axes>"
      ]
     },
     "metadata": {
      "needs_background": "light"
     },
     "output_type": "display_data"
    }
   ],
   "source": [
    "import numpy as np\n",
    "import matplotlib.pyplot as plt\n",
    "\n",
    "x = np.linspace(0, 0.999, num=100)\n",
    "y = np.log(x/(1-x))   #สำหรับ numpy เมธอด log() เท่ากับ Natural Log\n",
    "\n",
    "#plt.figure(figsize=(4, 3))\n",
    "plt.plot(x, y)\n",
    "plt.grid()\n",
    "plt.show()\n"
   ]
  },
  {
   "cell_type": "code",
   "execution_count": 13,
   "metadata": {},
   "outputs": [
    {
     "data": {
      "image/png": "[encoded data removed]",
      "text/plain": [
       "<Figure size 432x288 with 1 Axes>"
      ]
     },
     "metadata": {
      "needs_background": "light"
     },
     "output_type": "display_data"
    }
   ],
   "source": [
    "import numpy as np\n",
    "import matplotlib.pyplot as plt\n",
    "\n",
    "x = np.linspace(-6, 6, 121)\n",
    "y = 1/(1 + np.exp(-x))       #สำหรับ numpy เมธอด exp(x) เท่ากับ e**x\n",
    "\n",
    "#plt.figure(figsize=(4, 3))\n",
    "plt.plot(x, y)\n",
    "plt.grid()\n",
    "plt.show()"
   ]
  },
  {
   "cell_type": "code",
   "execution_count": 24,
   "metadata": {},
   "outputs": [
    {
     "data": {
      "image/png": "[encoded data removed]",
      "text/plain": [
       "<Figure size 432x288 with 1 Axes>"
      ]
     },
     "metadata": {
      "needs_background": "light"
     },
     "output_type": "display_data"
    }
   ],
   "source": [
    "import numpy as np\n",
    "import matplotlib.pyplot as plt\n",
    "\n",
    "x = np.linspace(-6, 6, 121)\n",
    "y = 1/(1 + np.exp(-x))       \n",
    "\n",
    "plt.figure(figsize=(6, 4))\n",
    "plt.plot(x, y)\n",
    "plt.yticks([0.0, 0.5, 1.0])\n",
    "plt.xticks([])\n",
    "plt.show()"
   ]
  },
  {
   "cell_type": "code",
   "execution_count": 26,
   "metadata": {},
   "outputs": [
    {
     "name": "stdout",
     "output_type": "stream",
     "text": [
      "ถ้า x = [4, 4], y = no\n",
      "ถ้า x = [5, 5], y = yes\n",
      "\n",
      "ความน่าจะเป็น\n",
      "[[0.69091303 0.30908697]\n",
      " [0.46549678 0.53450322]]\n"
     ]
    }
   ],
   "source": [
    "#example 5-1\n",
    "\n",
    "from sklearn.linear_model import LogisticRegression\n",
    "\n",
    "model = LogisticRegression()\n",
    "\n",
    "x = [[8, 6], [3, 5], [4, 9], [5, 8], [9, 9]]  #[[x1, x2], ...]\n",
    "y = ['yes', 'no', 'no', 'yes', 'yes']\n",
    "\n",
    "model.fit(x, y)\n",
    "\n",
    "x_predict = [[4, 4], [5, 5]]\n",
    "y_predicted = model.predict(x_predict)\n",
    "\n",
    "print('ถ้า x = [4, 4], y =', y_predicted[0])\n",
    "print('ถ้า x = [5, 5], y =', y_predicted[1])\n",
    "print()\n",
    "print('ความน่าจะเป็น')\n",
    "prob = model.predict_proba(x_predict)\n",
    "print(prob)"
   ]
  },
  {
   "cell_type": "code",
   "execution_count": 14,
   "metadata": {
    "scrolled": true
   },
   "outputs": [
    {
     "name": "stdout",
     "output_type": "stream",
     "text": [
      "Prediction\n",
      "Study: 2.2 hour(s) => Fail\n",
      "Study: 3.3 hour(s) => Pass\n",
      "Study: 4.4 hour(s) => Pass\n",
      "\n",
      "Predictive Model\n"
     ]
    },
    {
     "data": {
      "text/html": [
       "<table>     \t\t<tr style=\"background:#fff !important\">        \t\t\t<td rowspan=\"2\">P(x) = </td>         \t\t\t<td style=\"border-bottom:solid 1px black;text-align:center\">1<td>     \t\t</tr>     \t\t<tr>        \t \t\t<td>1 + e<sup> -(-3.14 +                  (1.15)x)</sup></td>     \t\t<tr>     \t\t</table>"
      ],
      "text/plain": [
       "<IPython.core.display.HTML object>"
      ]
     },
     "metadata": {},
     "output_type": "display_data"
    }
   ],
   "source": [
    "#example 5-2\n",
    "\n",
    "import pandas as pd\n",
    "import numpy as np\n",
    "from sklearn.linear_model import LogisticRegression\n",
    "from developerthai import num_format, display_fraction\n",
    "\n",
    "df = pd.read_csv(r'py-ml-data\\hours_study.csv')\n",
    "#display(df)\n",
    "\n",
    "x = np.array(df['hours_study']).reshape(-1, 1)\n",
    "y = df['pass']\n",
    "\n",
    "model = LogisticRegression()\n",
    "model.fit(x, y)\n",
    "\n",
    "x_predict = [2.2, 3.3, 4.4]\n",
    "x_predict_r = np.array(x_predict).reshape(-1, 1)\n",
    "y_predicted = model.predict(x_predict_r)\n",
    "\n",
    "print('Prediction')\n",
    "for (i, xp) in enumerate(x_predict):\n",
    "    #ถ้าผลลัพธ์เป็น 0 เปลี่ยนเป็น Fail ถ้าเป็น 1 เปลี่ยนเป็น Pass ให้สื่อความเข้าใจได้\n",
    "    r = 'Fail' if y_predicted[i] == 0 else 'Pass'\n",
    "    print(f'Study: {xp} hour(s) => {r}')\n",
    "\n",
    "print()\n",
    "print('Predictive Model') \n",
    "icp = num_format(model.intercept_[0])\n",
    "coe = num_format(model.coef_[0, 0])\n",
    "\n",
    "display_fraction('P(x) = ', '1', \n",
    "                 f'1 + e<sup> -({icp} + \\\n",
    "                 ({coe})x)</sup>')\n"
   ]
  },
  {
   "cell_type": "code",
   "execution_count": 31,
   "metadata": {},
   "outputs": [
    {
     "name": "stdout",
     "output_type": "stream",
     "text": [
      "Prediction\n",
      "Machine Age: 30 Month(s), Operate: 6 Hour(s)/Day => Meet Spec: Yes\n",
      "Machine Age: 40 Month(s), Operate: 8 Hour(s)/Day => Meet Spec: No\n",
      "Machine Age: 50 Month(s), Operate: 5 Hour(s)/Day => Meet Spec: No\n",
      "Machine Age: 60 Month(s), Operate: 3 Hour(s)/Day => Meet Spec: Yes\n",
      "\n",
      "Predictive Model\n"
     ]
    },
    {
     "data": {
      "text/html": [
       "<table>     \t\t<tr style=\"background:#fff !important\">        \t\t\t<td rowspan=\"2\">P(age, hour) = </td>         \t\t\t<td style=\"border-bottom:solid 1px black;text-align:center\">1<td>     \t\t</tr>     \t\t<tr>        \t \t\t<td>1 + e<sup> -(8.97 + (-0.09)age + (-0.95)hour))</sup></td>     \t\t<tr>     \t\t</table>"
      ],
      "text/plain": [
       "<IPython.core.display.HTML object>"
      ]
     },
     "metadata": {},
     "output_type": "display_data"
    }
   ],
   "source": [
    "#example 5-3\n",
    "\n",
    "import pandas as pd\n",
    "import numpy as np\n",
    "from sklearn.linear_model import LogisticRegression\n",
    "from developerthai import num_format, display_fraction\n",
    "\n",
    "df = pd.read_excel(r'py-ml-data\\machine-spec.xlsx')\n",
    "#display(df)\n",
    "\n",
    "x = np.array(df[['machine_age_months', 'operate_hours_per_day']])\n",
    "y = df['machine_meets_spec']\n",
    "\n",
    "model = LogisticRegression()\n",
    "model.fit(x, y)\n",
    "\n",
    "x_predict = [[30, 6], [40, 8], [50, 5], [60, 3]]\n",
    "y_predicted = model.predict(x_predict)\n",
    "\n",
    "print('Prediction')\n",
    "for (i, xp) in enumerate(x_predict):\n",
    "    mp = 'No' if y_predicted[i] == 0 else 'Yes'\n",
    "    print(f'Machine Age: {xp[0]} Month(s), ', end='')\n",
    "    print(f'Operate: {xp[1]} Hour(s)/Day ', end='')\n",
    "    print(f'=> Meet Spec: {mp}')\n",
    "\n",
    "print()\n",
    "\n",
    "print('Predictive Model') \n",
    "ic = num_format(model.intercept_[0])\n",
    "co1 = num_format(model.coef_[0, 0])\n",
    "co2 = num_format(model.coef_[0, 1])\n",
    "\n",
    "display_fraction('P(age, hour) = ', '1', \n",
    "                 f'1 + e<sup> -({ic} + ({co1})age + ({co2})hour))</sup>')"
   ]
  },
  {
   "cell_type": "code",
   "execution_count": 3,
   "metadata": {},
   "outputs": [
    {
     "data": {
      "text/html": [
       "<div>\n",
       "<style scoped>\n",
       "    .dataframe tbody tr th:only-of-type {\n",
       "        vertical-align: middle;\n",
       "    }\n",
       "\n",
       "    .dataframe tbody tr th {\n",
       "        vertical-align: top;\n",
       "    }\n",
       "\n",
       "    .dataframe thead th {\n",
       "        text-align: right;\n",
       "    }\n",
       "</style>\n",
       "<table border=\"1\" class=\"dataframe\">\n",
       "  <thead>\n",
       "    <tr style=\"text-align: right;\">\n",
       "      <th></th>\n",
       "      <th>temperature</th>\n",
       "      <th>water</th>\n",
       "      <th>gender</th>\n",
       "    </tr>\n",
       "  </thead>\n",
       "  <tbody>\n",
       "    <tr>\n",
       "      <th>0</th>\n",
       "      <td>20</td>\n",
       "      <td>No</td>\n",
       "      <td>Male</td>\n",
       "    </tr>\n",
       "    <tr>\n",
       "      <th>1</th>\n",
       "      <td>22</td>\n",
       "      <td>Yes</td>\n",
       "      <td>Male</td>\n",
       "    </tr>\n",
       "    <tr>\n",
       "      <th>2</th>\n",
       "      <td>22</td>\n",
       "      <td>Yes</td>\n",
       "      <td>Female</td>\n",
       "    </tr>\n",
       "    <tr>\n",
       "      <th>3</th>\n",
       "      <td>24</td>\n",
       "      <td>No</td>\n",
       "      <td>Female</td>\n",
       "    </tr>\n",
       "    <tr>\n",
       "      <th>4</th>\n",
       "      <td>22</td>\n",
       "      <td>Yes</td>\n",
       "      <td>Female</td>\n",
       "    </tr>\n",
       "  </tbody>\n",
       "</table>\n",
       "</div>"
      ],
      "text/plain": [
       "   temperature water  gender\n",
       "0           20    No    Male\n",
       "1           22   Yes    Male\n",
       "2           22   Yes  Female\n",
       "3           24    No  Female\n",
       "4           22   Yes  Female"
      ]
     },
     "metadata": {},
     "output_type": "display_data"
    },
    {
     "name": "stdout",
     "output_type": "stream",
     "text": [
      "Prediction\n",
      "Temperature: 21, Water: Yes => Gender: Male\n",
      "Temperature: 23, Water: No => Gender: Female\n",
      "\n",
      "Pridictive Model\n"
     ]
    },
    {
     "data": {
      "text/html": [
       "<table>     \t\t<tr style=\"background:#fff !important\">        \t\t\t<td rowspan=\"2\">P(t, w) = </td>         \t\t\t<td style=\"border-bottom:solid 1px black;text-align:center\">1<td>     \t\t</tr>     \t\t<tr>        \t \t\t<td>1 + e<sup> -(10.92 +                  (-0.48)t + (-0.38)w))</sup></td>     \t\t<tr>     \t\t</table>"
      ],
      "text/plain": [
       "<IPython.core.display.HTML object>"
      ]
     },
     "metadata": {},
     "output_type": "display_data"
    }
   ],
   "source": [
    "#example 5-4\n",
    "\n",
    "import pandas as pd\n",
    "import numpy as np\n",
    "from sklearn.linear_model import LogisticRegression\n",
    "from sklearn.model_selection import train_test_split\n",
    "from developerthai import num_format, display_fraction\n",
    "\n",
    "df = pd.read_excel(r'py-ml-data\\reptile2.xlsx')\n",
    "#display(df.head())\n",
    "\n",
    "df['water'] = df['water'].map({'No':0, 'Yes':1})\n",
    "df['gender'] = df['gender'].map({'Female':0, 'Male':1})\n",
    "\n",
    "\n",
    "x = df[['temperature', 'water']]\n",
    "y = df['gender']\n",
    "\n",
    "x_train, x_test, y_train, y_test = train_test_split(x, y, random_state=0)\n",
    "\n",
    "model = LogisticRegression()\n",
    "model.fit(x_train, y_train)\n",
    "\n",
    "x_predict = [[21, 1], [23, 0]]\n",
    "y_predicted = model.predict(x_predict)\n",
    "\n",
    "print('Prediction')\n",
    "for (i, xp) in enumerate(x_predict):\n",
    "    g = 'Female' if y_predicted[i] == 0 else 'Male'\n",
    "    w = 'No' if xp[1] == 0 else 'Yes'\n",
    "    print(f'Temperature: {xp[0]}, Water: {w} => Gender: {g}')\n",
    "\n",
    "\n",
    "print()\n",
    "print('Pridictive Model')\n",
    "\n",
    "ic = num_format(model.intercept_[0])\n",
    "co1 = num_format(model.coef_[0, 0])\n",
    "co2 = num_format(model.coef_[0, 1])\n",
    "\n",
    "display_fraction('P(t, w) = ', '1', \n",
    "                 f'1 + e<sup> -({ic} + \\\n",
    "                 ({co1})t + ({co2})w))</sup>')"
   ]
  },
  {
   "cell_type": "code",
   "execution_count": 6,
   "metadata": {},
   "outputs": [
    {
     "name": "stdout",
     "output_type": "stream",
     "text": [
      "gender: Male, age: 45, salary: 45000 ==> Not Purchase\n",
      "gender: Female, age: 50, salary: 50000 ==> Purchase\n",
      "\n",
      "Confusion Matrix:\n",
      "[[65  3]\n",
      " [ 7 25]]\n",
      "\n",
      "Accuracy: 0.90\n",
      "Precision: 0.89\n",
      "Recall: 0.78\n",
      "F1 Score: 0.83\n",
      "Error Rate 0.10\n",
      "\n"
     ]
    }
   ],
   "source": [
    "#example 5-5\n",
    "\n",
    "import pandas as pd\n",
    "import numpy as np\n",
    "from sklearn.linear_model import LogisticRegression\n",
    "from sklearn.preprocessing import LabelEncoder\n",
    "from sklearn.model_selection import train_test_split\n",
    "from sklearn.preprocessing import StandardScaler\n",
    "from sklearn.metrics import confusion_matrix, classification_report\n",
    "from sklearn.metrics import accuracy_score, precision_score                          \n",
    "from sklearn.metrics import recall_score, f1_score\n",
    "\n",
    "df = pd.read_excel(r'py-ml-data\\customer.xlsx')\n",
    "#print(df.info())\n",
    "#display(df.tail(7))\n",
    "\n",
    "dict = {'Male':1, 'Female':0}\n",
    "df['gender'] = df['gender'].map(dict)\n",
    "\n",
    "\n",
    "x = df[['gender', 'age', 'salary']]\n",
    "y = df['purchased']\n",
    "\n",
    "x_train, x_test, y_train, y_test = train_test_split(x, y, random_state=0)\n",
    "\n",
    "scaler = StandardScaler() \n",
    "#x_train = scaler.fit(x_train)\n",
    "#x_train = scaler.transform(x_train)\n",
    "\n",
    "x_train = scaler.fit_transform(x_train)\n",
    "x_test = scaler.transform(x_test)\n",
    "\n",
    "model = LogisticRegression()\n",
    "model.fit(x_train, y_train)\n",
    "\n",
    "#[gender, age, salary]\n",
    "x_predict = [[1, 45, 45000], [0, 50, 50000]]\n",
    "x_predict_t = scaler.transform(x_predict)\n",
    "y_predicted = model.predict(x_predict_t)\n",
    "\n",
    "for (i, xp) in enumerate(x_predict):\n",
    "    g = 'Female' if xp[0] == 0 else 'Male'\n",
    "    p = 'Not Purchase' if y_predicted[i] == 0 else 'Purchase'\n",
    "    print(f'gender: {g}, age: {xp[1]}, salary: {xp[2]} ==>', p)\n",
    "\n",
    "print()\n",
    "\n",
    "### Model Evaluation ####\n",
    "y_predicted = model.predict(x_test)\n",
    "\n",
    "print('Confusion Matrix:')\n",
    "cfmx = confusion_matrix(y_test, y_predicted)\n",
    "print(cfmx)\n",
    "print()\n",
    "\n",
    "print('Accuracy:', '{:.2f}'.format(accuracy_score(y_test, y_predicted)))\n",
    "print('Precision:', '{:.2f}'.format(precision_score(y_test, y_predicted)))\n",
    "print('Recall:', '{:.2f}'.format(recall_score(y_test, y_predicted)))\n",
    "print('F1 Score:', '{:.2f}'.format(f1_score(y_test, y_predicted)))\n",
    "\n",
    "#error_rate = (FP + FN) / Total\n",
    "err = (cfmx[0, 1] + cfmx[1, 0]) / y_test.count()\n",
    "print('Error Rate', '{:.2f}'.format(err))\n",
    "print()\n",
    "\n",
    "#print(classification_report(y_test, y_predicted))"
   ]
  },
  {
   "cell_type": "code",
   "execution_count": 1,
   "metadata": {},
   "outputs": [
    {
     "name": "stdout",
     "output_type": "stream",
     "text": [
      "Confusion Matrix Threshold = 0.5\n",
      "[[65  3]\n",
      " [ 7 25]]\n",
      "\n",
      "Confusion Matrix Threshold = 0.25\n",
      "[[53 15]\n",
      " [ 1 31]]\n"
     ]
    }
   ],
   "source": [
    "#example 5-6\n",
    "\n",
    "import pandas as pd\n",
    "from sklearn.linear_model import LogisticRegression\n",
    "from sklearn.model_selection import train_test_split\n",
    "from sklearn.preprocessing import StandardScaler, binarize\n",
    "from sklearn.metrics import confusion_matrix\n",
    "\n",
    "df = pd.read_excel(r'py-ml-data\\social-network-ads.xlsx')\n",
    "\n",
    "dict = {'Male':1, 'Female':0}\n",
    "df['gender'] = df['gender'].map(dict)\n",
    "\n",
    "x = df[['gender', 'age', 'salary']]\n",
    "y = df['purchased']\n",
    "\n",
    "x_train, x_test, y_train, y_test = train_test_split(x, y, random_state=0)\n",
    "\n",
    "scaler = StandardScaler() \n",
    "x_train = scaler.fit_transform(x_train)\n",
    "x_test = scaler.transform(x_test)\n",
    "\n",
    "model = LogisticRegression()\n",
    "model.fit(x_train, y_train)\n",
    "\n",
    "y_predicted_default = model.predict(x_test)  #threshold=0.5\n",
    "print('Confusion Matrix Threshold = 0.5')\n",
    "print(confusion_matrix(y_test, y_predicted_default))\n",
    "print()\n",
    "\n",
    "proba = model.predict_proba(x_test)\n",
    "y_bin_th_025 = binarize(proba, threshold=0.25)\n",
    "y_predicted_th_025 = y_bin_th_025[:, 1]\n",
    "print('Confusion Matrix Threshold = 0.25')\n",
    "print(confusion_matrix(y_test, y_predicted_th_025))"
   ]
  },
  {
   "cell_type": "code",
   "execution_count": 3,
   "metadata": {},
   "outputs": [
    {
     "data": {
      "image/png": "[encoded data removed]",
      "text/plain": [
       "<Figure size 432x288 with 1 Axes>"
      ]
     },
     "metadata": {
      "needs_background": "light"
     },
     "output_type": "display_data"
    },
    {
     "name": "stdout",
     "output_type": "stream",
     "text": [
      "AUC Score: 0.95\n"
     ]
    }
   ],
   "source": [
    "#example 5-7\n",
    "\n",
    "import pandas as pd\n",
    "import numpy as np\n",
    "from sklearn.linear_model import LogisticRegression\n",
    "from sklearn.model_selection import train_test_split\n",
    "from sklearn.preprocessing import StandardScaler, binarize\n",
    "from sklearn.metrics import roc_curve, roc_auc_score, auc\n",
    "import matplotlib.pyplot as plt\n",
    "from developerthai import num_format\n",
    "\n",
    "df = pd.read_excel(r'py-ml-data\\social-network-ads.xlsx')\n",
    "\n",
    "dict = {'Male':1, 'Female':0}\n",
    "df['gender'] = df['gender'].map(dict)\n",
    "\n",
    "x = df[['gender', 'age', 'salary']]\n",
    "y = df['purchased']\n",
    "\n",
    "x_train, x_test, y_train, y_test = train_test_split(x, y, random_state=0)\n",
    "\n",
    "scaler = StandardScaler() \n",
    "x_train = scaler.fit_transform(x_train)\n",
    "x_test = scaler.transform(x_test)\n",
    "\n",
    "model = LogisticRegression()\n",
    "model.fit(x_train, y_train)\n",
    "\n",
    "probs = model.predict_proba(x_test)\n",
    "probs = probs[:, 1]\n",
    "\n",
    "fpr, tpr, threshold = roc_curve(y_test, probs)\n",
    "\n",
    "plt.plot(fpr, tpr)\n",
    "plt.xlabel('False Positive Rate (FPR)')\n",
    "plt.ylabel('True Positive Rate (TPR)')\n",
    "plt.show()\n",
    "\n",
    "auc_score = auc(fpr, tpr)\n",
    "print('AUC Score:', num_format(auc_score))\n",
    "\n",
    "#auc_score = roc_auc_score(y_test, probs)\n",
    "#print('AUC Score:', num_format(auc_score))"
   ]
  },
  {
   "cell_type": "code",
   "execution_count": null,
   "metadata": {},
   "outputs": [],
   "source": []
  }
 ],
 "metadata": {
  "kernelspec": {
   "display_name": "Python 3",
   "language": "python",
   "name": "python3"
  },
  "language_info": {
   "codemirror_mode": {
    "name": "ipython",
    "version": 3
   },
   "file_extension": ".py",
   "mimetype": "text/x-python",
   "name": "python",
   "nbconvert_exporter": "python",
   "pygments_lexer": "ipython3",
   "version": "3.8.3"
  }
 },
 "nbformat": 4,
 "nbformat_minor": 4
}
